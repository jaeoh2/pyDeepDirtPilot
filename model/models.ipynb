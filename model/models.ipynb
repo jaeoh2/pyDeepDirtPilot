{
 "cells": [
  {
   "cell_type": "markdown",
   "metadata": {},
   "source": [
    "## Dataset"
   ]
  },
  {
   "cell_type": "code",
   "execution_count": 1,
   "metadata": {},
   "outputs": [],
   "source": [
    "%matplotlib inline\n",
    "import pandas as pd\n",
    "import numpy as np\n",
    "import matplotlib.pyplot as plt\n",
    "import matplotlib.image as mpimg"
   ]
  },
  {
   "cell_type": "code",
   "execution_count": 2,
   "metadata": {
    "scrolled": true
   },
   "outputs": [],
   "source": [
    "Data_path = \"/data/behavioral-cloning/train_data_new/\"\n",
    "Img_path = Data_path + \"IMG/\"\n",
    "df = pd.read_csv(Data_path + \"driving_log.csv\", names=['center', 'left', 'right', 'steering', 'gas', 'brake', 'speed'])\n",
    "\n",
    "df['left'] = df['left'].str.replace('/home/jaeoh2/Tools/linux_sim/train_data_new/',Data_path)\n",
    "df['right'] = df['right'].str.replace('/home/jaeoh2/Tools/linux_sim/train_data_new/',Data_path)\n",
    "df['center'] = df['center'].str.replace('/home/jaeoh2/Tools/linux_sim/train_data_new/',Data_path)"
   ]
  },
  {
   "cell_type": "code",
   "execution_count": 3,
   "metadata": {},
   "outputs": [],
   "source": [
    "df[['center', 'steering']].to_csv(Data_path + 'dataset.txt', header=None, index=None, sep=' ', mode='a')"
   ]
  },
  {
   "cell_type": "code",
   "execution_count": 4,
   "metadata": {},
   "outputs": [],
   "source": [
    "#data balancing refer from https://navoshta.com/end-to-end-deep-learning/\n",
    "balanced = pd.DataFrame()\n",
    "bins = 200\n",
    "bin_n = 200\n",
    "\n",
    "start = 0\n",
    "for end in np.linspace(0, 1, num=bins):\n",
    "    df_range = df[(np.absolute(df.steering) >= start) & (np.absolute(df.steering) < end)]\n",
    "    range_n = min(bin_n, df_range.shape[0])\n",
    "    if range_n > 0:\n",
    "        balanced = pd.concat([balanced, df_range.sample(range_n)])\n",
    "    start = end\n",
    "balanced.to_csv(Data_path + 'driving_log_balanced.csv', index=False)"
   ]
  },
  {
   "cell_type": "code",
   "execution_count": 5,
   "metadata": {},
   "outputs": [
    {
     "data": {
      "text/plain": [
       "array([[<matplotlib.axes._subplots.AxesSubplot object at 0x7f88a7eec860>]],\n",
       "      dtype=object)"
      ]
     },
     "execution_count": 5,
     "metadata": {},
     "output_type": "execute_result"
    },
    {
     "data": {
      "image/png": "[encoded data removed]",
      "text/plain": [
       "<matplotlib.figure.Figure at 0x7f88bcb28ba8>"
      ]
     },
     "metadata": {},
     "output_type": "display_data"
    }
   ],
   "source": [
    "df.hist(column=['steering'], bins=bins, figsize=(10,5))"
   ]
  },
  {
   "cell_type": "code",
   "execution_count": 6,
   "metadata": {},
   "outputs": [
    {
     "data": {
      "text/plain": [
       "array([[<matplotlib.axes._subplots.AxesSubplot object at 0x7f88a77ba208>]],\n",
       "      dtype=object)"
      ]
     },
     "execution_count": 6,
     "metadata": {},
     "output_type": "execute_result"
    },
    {
     "data": {
      "image/png": "[encoded data removed]",
      "text/plain": [
       "<matplotlib.figure.Figure at 0x7f88a7793fd0>"
      ]
     },
     "metadata": {},
     "output_type": "display_data"
    }
   ],
   "source": [
    "balanced.hist(column=['steering'], bins=bins, figsize=(10,5))"
   ]
  },
  {
   "cell_type": "code",
   "execution_count": 7,
   "metadata": {},
   "outputs": [
    {
     "name": "stdout",
     "output_type": "stream",
     "text": [
      "Number of examples : 13977\n",
      "Number of balanced : 10775\n"
     ]
    }
   ],
   "source": [
    "num_examples = len(df)\n",
    "num_balanced = len(balanced)\n",
    "print(\"Number of examples : {}\\nNumber of balanced : {}\".format(num_examples, num_balanced))"
   ]
  },
  {
   "cell_type": "markdown",
   "metadata": {},
   "source": [
    "## Data Augmentation"
   ]
  },
  {
   "cell_type": "code",
   "execution_count": 8,
   "metadata": {},
   "outputs": [
    {
     "name": "stderr",
     "output_type": "stream",
     "text": [
      "/opt/conda/lib/python3.6/site-packages/h5py/__init__.py:36: FutureWarning: Conversion of the second argument of issubdtype from `float` to `np.floating` is deprecated. In future, it will be treated as `np.float64 == np.dtype(float).type`.\n",
      "  from ._conv import register_converters as _register_converters\n"
     ]
    }
   ],
   "source": [
    "import random\n",
    "from tflearn.data_preprocessing import ImagePreprocessing\n",
    "from tflearn.data_utils import *\n",
    "#from tflearn.data_utils import image_preloader"
   ]
  },
  {
   "cell_type": "code",
   "execution_count": null,
   "metadata": {},
   "outputs": [],
   "source": [
    "#refer from : https://github.com/tflearn/tflearn/blob/master/tflearn/data_utils.py\n",
    "def image_preloader(target_path, image_shape, mode='file', normalize=True,\n",
    "                    grayscale=False, categorical_labels=True,\n",
    "                    files_extension=None, filter_channel=False):\n",
    "    assert mode in ['folder', 'file']\n",
    "    if mode == 'folder':\n",
    "        images, labels = directory_to_samples(target_path,\n",
    "                                              flags=files_extension, filter_channel=filter_channel)\n",
    "    else:\n",
    "        with open(target_path, 'r') as f:\n",
    "            images, labels = [], []\n",
    "            for l in f.readlines():\n",
    "                l = l.strip('\\n').split()\n",
    "                if not files_extension or any(flag in l[0] for flag in files_extension):\n",
    "                    if filter_channel:\n",
    "                        if get_img_channel(l[0]) != 3:\n",
    "                            continue\n",
    "                    images.append(l[0])\n",
    "                    labels.append(l[1])\n",
    "\n",
    "#     n_classes = np.max(labels) + 1\n",
    "    X = ImagePreloader(images, image_shape, normalize, grayscale)\n",
    "    Y = LabelPreloader(labels, n_classes, categorical_labels)\n",
    "    \n",
    "    return X, Y"
   ]
  },
  {
   "cell_type": "code",
   "execution_count": null,
   "metadata": {},
   "outputs": [],
   "source": [
    "X, Y = image_preloader(Data_path + 'dataset.txt', image_shape=(224, 224), mode='file',\n",
    "                       categorical_labels=False, normalize=True,\n",
    "                       files_extension=['.jpg', '.png'], filter_channel=True)"
   ]
  },
  {
   "cell_type": "code",
   "execution_count": null,
   "metadata": {},
   "outputs": [],
   "source": []
  },
  {
   "cell_type": "code",
   "execution_count": null,
   "metadata": {},
   "outputs": [],
   "source": []
  },
  {
   "cell_type": "markdown",
   "metadata": {},
   "source": [
    "## Model"
   ]
  },
  {
   "cell_type": "code",
   "execution_count": null,
   "metadata": {
    "scrolled": false
   },
   "outputs": [],
   "source": [
    "import tflearn\n",
    "from tflearn.data_preprocessing import ImagePreprocessing\n",
    "import os"
   ]
  },
  {
   "cell_type": "code",
   "execution_count": null,
   "metadata": {},
   "outputs": [],
   "source": [
    "def build_model(input, num_class):\n",
    "    #vgg16\n",
    "    x = tflearn.conv_2d(input, 64, 3, activation='relu', scope='conv1_1')\n",
    "    x = tflearn.conv_2d(x, 64, 3, activation='relu', scope='conv1_2')\n",
    "    x = tflearn.max_pool_2d(x, 2, strides=2, name='maxpool1')\n",
    "\n",
    "    x = tflearn.conv_2d(x, 128, 3, activation='relu', scope='conv2_1')\n",
    "    x = tflearn.conv_2d(x, 128, 3, activation='relu', scope='conv2_2')\n",
    "    x = tflearn.max_pool_2d(x, 2, strides=2, name='maxpool2')\n",
    "\n",
    "    x = tflearn.conv_2d(x, 256, 3, activation='relu', scope='conv3_1')\n",
    "    x = tflearn.conv_2d(x, 256, 3, activation='relu', scope='conv3_2')\n",
    "    x = tflearn.conv_2d(x, 256, 3, activation='relu', scope='conv3_3')\n",
    "    x = tflearn.max_pool_2d(x, 2, strides=2, name='maxpool3')\n",
    "\n",
    "    x = tflearn.conv_2d(x, 512, 3, activation='relu', scope='conv4_1')\n",
    "    x = tflearn.conv_2d(x, 512, 3, activation='relu', scope='conv4_2')\n",
    "    x = tflearn.conv_2d(x, 512, 3, activation='relu', scope='conv4_3')\n",
    "    x = tflearn.max_pool_2d(x, 2, strides=2, name='maxpool4')\n",
    "\n",
    "    x = tflearn.conv_2d(x, 512, 3, activation='relu', scope='conv5_1')\n",
    "    x = tflearn.conv_2d(x, 512, 3, activation='relu', scope='conv5_2')\n",
    "    x = tflearn.conv_2d(x, 512, 3, activation='relu', scope='conv5_3')\n",
    "    x = tflearn.max_pool_2d(x, 2, strides=2, name='maxpool5')\n",
    "\n",
    "    x = tflearn.fully_connected(x, 4096, activation='relu', scope='fc6')\n",
    "    x = tflearn.dropout(x, 0.5, name='dropout1')\n",
    "\n",
    "    x = tflearn.fully_connected(x, 4096, activation='relu', scope='fc7')\n",
    "    x = tflearn.dropout(x, 0.5, name='dropout2')\n",
    "    \n",
    "    x = tflearn.fully_connected(x, num_class, activation='softmax', scope='fc8', restore=False)\n",
    "        \n",
    "    return x\n",
    "    "
   ]
  },
  {
   "cell_type": "code",
   "execution_count": null,
   "metadata": {},
   "outputs": [],
   "source": [
    "x = tflearn.input_data(shape=[None, 224, 224, 3], name='input')\n",
    "vgg16 = build_model(x, num_class=1)\n",
    "# regression = tflearn.regression(vgg16, optimizer='adam', loss='mean_square', metric='accuracy', learning_rate=0.01)\n",
    "regression = tflearn.regression(vgg16, optimizer='adam', loss='categorical_crossentropy', metric='accuracy', learning_rate=0.01)\n",
    "model = tflearn.DNN(regression)"
   ]
  },
  {
   "cell_type": "code",
   "execution_count": null,
   "metadata": {},
   "outputs": [],
   "source": [
    "model.fit(X,Y1, n_epoch=5, shuffle=True, show_metric=True, batch_size=32, snapshot_step=500, snapshot_epoch=False, run_id='vgg_oxflowers17')"
   ]
  },
  {
   "cell_type": "code",
   "execution_count": null,
   "metadata": {},
   "outputs": [],
   "source": []
  }
 ],
 "metadata": {
  "kernelspec": {
   "display_name": "Python 3",
   "language": "python",
   "name": "python3"
  },
  "language_info": {
   "codemirror_mode": {
    "name": "ipython",
    "version": 3
   },
   "file_extension": ".py",
   "mimetype": "text/x-python",
   "name": "python",
   "nbconvert_exporter": "python",
   "pygments_lexer": "ipython3",
   "version": "3.6.4"
  }
 },
 "nbformat": 4,
 "nbformat_minor": 2
}
